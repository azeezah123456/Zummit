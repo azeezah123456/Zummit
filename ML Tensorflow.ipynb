{
  "nbformat": 4,
  "nbformat_minor": 0,
  "metadata": {
    "colab": {
      "provenance": []
    },
    "kernelspec": {
      "name": "python3",
      "display_name": "Python 3"
    },
    "language_info": {
      "name": "python"
    }
  },
  "cells": [
    {
      "cell_type": "code",
      "source": [
        "import pandas as pd\n",
        "import tensorflow as tf\n",
        "from sklearn.model_selection import train_test_split\n",
        "from sklearn.preprocessing import StandardScaler\n",
        "from sklearn.metrics import accuracy_score, precision_score, recall_score, f1_score\n",
        "import urllib\n"
      ],
      "metadata": {
        "id": "b6Eo6iMnlm0z"
      },
      "execution_count": 1,
      "outputs": []
    },
    {
      "cell_type": "code",
      "source": [
        "# URL of the Titanic dataset\n",
        "url = \"https://raw.githubusercontent.com/datasciencedojo/datasets/master/titanic.csv\"\n",
        "\n",
        "# Load the dataset into a DataFrame\n",
        "titanic_data = pd.read_csv(url)\n",
        "\n",
        "# View the first few rows of the dataset\n",
        "print(\"First few rows of the dataset:\")\n",
        "print(titanic_data.head())\n"
      ],
      "metadata": {
        "colab": {
          "base_uri": "https://localhost:8080/"
        },
        "id": "d0f8JnNAnmzm",
        "outputId": "f7ee5f65-0727-4e41-8b0f-2f06dbb863ba"
      },
      "execution_count": 2,
      "outputs": [
        {
          "output_type": "stream",
          "name": "stdout",
          "text": [
            "First few rows of the dataset:\n",
            "   PassengerId  Survived  Pclass  \\\n",
            "0            1         0       3   \n",
            "1            2         1       1   \n",
            "2            3         1       3   \n",
            "3            4         1       1   \n",
            "4            5         0       3   \n",
            "\n",
            "                                                Name     Sex   Age  SibSp  \\\n",
            "0                            Braund, Mr. Owen Harris    male  22.0      1   \n",
            "1  Cumings, Mrs. John Bradley (Florence Briggs Th...  female  38.0      1   \n",
            "2                             Heikkinen, Miss. Laina  female  26.0      0   \n",
            "3       Futrelle, Mrs. Jacques Heath (Lily May Peel)  female  35.0      1   \n",
            "4                           Allen, Mr. William Henry    male  35.0      0   \n",
            "\n",
            "   Parch            Ticket     Fare Cabin Embarked  \n",
            "0      0         A/5 21171   7.2500   NaN        S  \n",
            "1      0          PC 17599  71.2833   C85        C  \n",
            "2      0  STON/O2. 3101282   7.9250   NaN        S  \n",
            "3      0            113803  53.1000  C123        S  \n",
            "4      0            373450   8.0500   NaN        S  \n"
          ]
        }
      ]
    },
    {
      "cell_type": "code",
      "source": [
        "# Preprocess the data\n",
        "# Drop irrelevant columns or handle missing values\n",
        "titanic_data.drop([\"PassengerId\", \"Name\", \"Ticket\", \"Cabin\"], axis=1, inplace=True)\n",
        "titanic_data[\"Age\"].fillna(titanic_data[\"Age\"].median(), inplace=True)\n",
        "titanic_data[\"Embarked\"].fillna(titanic_data[\"Embarked\"].mode()[0], inplace=True)\n",
        "\n",
        "# Encode categorical variables\n",
        "titanic_data = pd.get_dummies(titanic_data, columns=[\"Sex\", \"Embarked\"], drop_first=True)\n"
      ],
      "metadata": {
        "id": "f6SnwRUmlq3S"
      },
      "execution_count": 3,
      "outputs": []
    },
    {
      "cell_type": "code",
      "source": [
        "# Split the data into features (X) and target variable (y)\n",
        "X = titanic_data.drop(\"Survived\", axis=1)\n",
        "y = titanic_data[\"Survived\"]\n",
        "\n",
        "# Split the data into training and testing sets\n",
        "X_train, X_test, y_train, y_test = train_test_split(X, y, test_size=0.2, random_state=42)\n",
        "\n",
        "# Feature scaling\n",
        "scaler = StandardScaler()\n",
        "X_train_scaled = scaler.fit_transform(X_train)\n",
        "X_test_scaled = scaler.transform(X_test)\n",
        "\n"
      ],
      "metadata": {
        "id": "wkuNEUgcoAZi"
      },
      "execution_count": 4,
      "outputs": []
    },
    {
      "cell_type": "code",
      "source": [
        "# Build the TensorFlow model\n",
        "model = tf.keras.models.Sequential([\n",
        "    tf.keras.layers.Dense(128, activation='relu', input_shape=(X_train_scaled.shape[1],)),\n",
        "    tf.keras.layers.Dropout(0.2),\n",
        "    tf.keras.layers.Dense(64, activation='relu'),\n",
        "    tf.keras.layers.Dropout(0.2),\n",
        "    tf.keras.layers.Dense(1, activation='sigmoid')\n",
        "])\n",
        "\n",
        "# Compile the model\n",
        "model.compile(optimizer='adam', loss='binary_crossentropy', metrics=['accuracy'])\n",
        "\n",
        "# Train the model\n",
        "model.fit(X_train_scaled, y_train, epochs=50, batch_size=32, validation_split=0.2)\n",
        "\n",
        "# Make predictions\n",
        "y_pred = model.predict(X_test_scaled)\n",
        "y_pred = (y_pred > 0.5).astype(int)\n"
      ],
      "metadata": {
        "colab": {
          "base_uri": "https://localhost:8080/"
        },
        "id": "rysiNqQDoAjM",
        "outputId": "31926292-dd04-4c93-a864-e682eb6cfd3c"
      },
      "execution_count": 5,
      "outputs": [
        {
          "output_type": "stream",
          "name": "stdout",
          "text": [
            "Epoch 1/50\n",
            "18/18 [==============================] - 2s 20ms/step - loss: 0.6198 - accuracy: 0.6801 - val_loss: 0.5178 - val_accuracy: 0.7762\n",
            "Epoch 2/50\n",
            "18/18 [==============================] - 0s 11ms/step - loss: 0.5184 - accuracy: 0.7733 - val_loss: 0.4479 - val_accuracy: 0.7902\n",
            "Epoch 3/50\n",
            "18/18 [==============================] - 0s 8ms/step - loss: 0.4647 - accuracy: 0.7909 - val_loss: 0.4270 - val_accuracy: 0.8112\n",
            "Epoch 4/50\n",
            "18/18 [==============================] - 0s 10ms/step - loss: 0.4568 - accuracy: 0.8032 - val_loss: 0.4114 - val_accuracy: 0.8042\n",
            "Epoch 5/50\n",
            "18/18 [==============================] - 0s 8ms/step - loss: 0.4425 - accuracy: 0.8120 - val_loss: 0.4045 - val_accuracy: 0.8182\n",
            "Epoch 6/50\n",
            "18/18 [==============================] - 0s 9ms/step - loss: 0.4364 - accuracy: 0.8032 - val_loss: 0.4026 - val_accuracy: 0.8182\n",
            "Epoch 7/50\n",
            "18/18 [==============================] - 0s 8ms/step - loss: 0.4334 - accuracy: 0.8137 - val_loss: 0.4041 - val_accuracy: 0.8252\n",
            "Epoch 8/50\n",
            "18/18 [==============================] - 0s 7ms/step - loss: 0.4219 - accuracy: 0.8190 - val_loss: 0.3915 - val_accuracy: 0.8462\n",
            "Epoch 9/50\n",
            "18/18 [==============================] - 0s 8ms/step - loss: 0.4178 - accuracy: 0.8084 - val_loss: 0.3928 - val_accuracy: 0.8392\n",
            "Epoch 10/50\n",
            "18/18 [==============================] - 0s 15ms/step - loss: 0.4161 - accuracy: 0.8260 - val_loss: 0.3918 - val_accuracy: 0.8322\n",
            "Epoch 11/50\n",
            "18/18 [==============================] - 0s 18ms/step - loss: 0.4173 - accuracy: 0.8278 - val_loss: 0.3925 - val_accuracy: 0.8392\n",
            "Epoch 12/50\n",
            "18/18 [==============================] - 0s 18ms/step - loss: 0.4091 - accuracy: 0.8260 - val_loss: 0.3940 - val_accuracy: 0.8322\n",
            "Epoch 13/50\n",
            "18/18 [==============================] - 0s 14ms/step - loss: 0.4141 - accuracy: 0.8225 - val_loss: 0.3941 - val_accuracy: 0.8462\n",
            "Epoch 14/50\n",
            "18/18 [==============================] - 0s 13ms/step - loss: 0.4039 - accuracy: 0.8295 - val_loss: 0.3955 - val_accuracy: 0.8252\n",
            "Epoch 15/50\n",
            "18/18 [==============================] - 0s 12ms/step - loss: 0.4002 - accuracy: 0.8366 - val_loss: 0.3892 - val_accuracy: 0.8252\n",
            "Epoch 16/50\n",
            "18/18 [==============================] - 0s 14ms/step - loss: 0.4185 - accuracy: 0.8225 - val_loss: 0.3910 - val_accuracy: 0.8462\n",
            "Epoch 17/50\n",
            "18/18 [==============================] - 0s 13ms/step - loss: 0.4076 - accuracy: 0.8278 - val_loss: 0.4042 - val_accuracy: 0.8392\n",
            "Epoch 18/50\n",
            "18/18 [==============================] - 0s 14ms/step - loss: 0.4057 - accuracy: 0.8243 - val_loss: 0.3865 - val_accuracy: 0.8392\n",
            "Epoch 19/50\n",
            "18/18 [==============================] - 0s 12ms/step - loss: 0.3977 - accuracy: 0.8401 - val_loss: 0.3937 - val_accuracy: 0.8392\n",
            "Epoch 20/50\n",
            "18/18 [==============================] - 0s 10ms/step - loss: 0.4024 - accuracy: 0.8401 - val_loss: 0.4081 - val_accuracy: 0.8322\n",
            "Epoch 21/50\n",
            "18/18 [==============================] - 0s 11ms/step - loss: 0.3917 - accuracy: 0.8348 - val_loss: 0.3938 - val_accuracy: 0.8392\n",
            "Epoch 22/50\n",
            "18/18 [==============================] - 0s 13ms/step - loss: 0.4048 - accuracy: 0.8383 - val_loss: 0.4028 - val_accuracy: 0.8392\n",
            "Epoch 23/50\n",
            "18/18 [==============================] - 0s 15ms/step - loss: 0.4040 - accuracy: 0.8313 - val_loss: 0.3935 - val_accuracy: 0.8392\n",
            "Epoch 24/50\n",
            "18/18 [==============================] - 0s 8ms/step - loss: 0.4123 - accuracy: 0.8243 - val_loss: 0.3980 - val_accuracy: 0.8392\n",
            "Epoch 25/50\n",
            "18/18 [==============================] - 0s 8ms/step - loss: 0.3692 - accuracy: 0.8436 - val_loss: 0.3953 - val_accuracy: 0.8392\n",
            "Epoch 26/50\n",
            "18/18 [==============================] - 0s 8ms/step - loss: 0.3964 - accuracy: 0.8313 - val_loss: 0.3961 - val_accuracy: 0.8392\n",
            "Epoch 27/50\n",
            "18/18 [==============================] - 0s 9ms/step - loss: 0.3892 - accuracy: 0.8436 - val_loss: 0.4013 - val_accuracy: 0.8392\n",
            "Epoch 28/50\n",
            "18/18 [==============================] - 0s 7ms/step - loss: 0.3980 - accuracy: 0.8366 - val_loss: 0.3968 - val_accuracy: 0.8392\n",
            "Epoch 29/50\n",
            "18/18 [==============================] - 0s 8ms/step - loss: 0.3851 - accuracy: 0.8436 - val_loss: 0.3957 - val_accuracy: 0.8392\n",
            "Epoch 30/50\n",
            "18/18 [==============================] - 0s 6ms/step - loss: 0.3898 - accuracy: 0.8313 - val_loss: 0.3993 - val_accuracy: 0.8462\n",
            "Epoch 31/50\n",
            "18/18 [==============================] - 0s 5ms/step - loss: 0.3951 - accuracy: 0.8330 - val_loss: 0.4029 - val_accuracy: 0.8462\n",
            "Epoch 32/50\n",
            "18/18 [==============================] - 0s 6ms/step - loss: 0.3760 - accuracy: 0.8489 - val_loss: 0.3989 - val_accuracy: 0.8392\n",
            "Epoch 33/50\n",
            "18/18 [==============================] - 0s 5ms/step - loss: 0.3887 - accuracy: 0.8453 - val_loss: 0.3981 - val_accuracy: 0.8462\n",
            "Epoch 34/50\n",
            "18/18 [==============================] - 0s 4ms/step - loss: 0.3835 - accuracy: 0.8383 - val_loss: 0.4054 - val_accuracy: 0.8392\n",
            "Epoch 35/50\n",
            "18/18 [==============================] - 0s 5ms/step - loss: 0.3795 - accuracy: 0.8383 - val_loss: 0.4019 - val_accuracy: 0.8462\n",
            "Epoch 36/50\n",
            "18/18 [==============================] - 0s 4ms/step - loss: 0.3771 - accuracy: 0.8489 - val_loss: 0.4004 - val_accuracy: 0.8462\n",
            "Epoch 37/50\n",
            "18/18 [==============================] - 0s 5ms/step - loss: 0.3742 - accuracy: 0.8383 - val_loss: 0.3998 - val_accuracy: 0.8462\n",
            "Epoch 38/50\n",
            "18/18 [==============================] - 0s 5ms/step - loss: 0.3729 - accuracy: 0.8471 - val_loss: 0.4030 - val_accuracy: 0.8462\n",
            "Epoch 39/50\n",
            "18/18 [==============================] - 0s 5ms/step - loss: 0.3671 - accuracy: 0.8348 - val_loss: 0.4083 - val_accuracy: 0.8392\n",
            "Epoch 40/50\n",
            "18/18 [==============================] - 0s 4ms/step - loss: 0.3708 - accuracy: 0.8436 - val_loss: 0.4015 - val_accuracy: 0.8462\n",
            "Epoch 41/50\n",
            "18/18 [==============================] - 0s 4ms/step - loss: 0.3855 - accuracy: 0.8313 - val_loss: 0.4006 - val_accuracy: 0.8531\n",
            "Epoch 42/50\n",
            "18/18 [==============================] - 0s 5ms/step - loss: 0.3850 - accuracy: 0.8366 - val_loss: 0.4029 - val_accuracy: 0.8531\n",
            "Epoch 43/50\n",
            "18/18 [==============================] - 0s 6ms/step - loss: 0.3938 - accuracy: 0.8313 - val_loss: 0.4050 - val_accuracy: 0.8531\n",
            "Epoch 44/50\n",
            "18/18 [==============================] - 0s 6ms/step - loss: 0.3802 - accuracy: 0.8348 - val_loss: 0.4008 - val_accuracy: 0.8531\n",
            "Epoch 45/50\n",
            "18/18 [==============================] - 0s 5ms/step - loss: 0.3753 - accuracy: 0.8401 - val_loss: 0.4010 - val_accuracy: 0.8392\n",
            "Epoch 46/50\n",
            "18/18 [==============================] - 0s 5ms/step - loss: 0.3650 - accuracy: 0.8471 - val_loss: 0.4070 - val_accuracy: 0.8392\n",
            "Epoch 47/50\n",
            "18/18 [==============================] - 0s 6ms/step - loss: 0.3548 - accuracy: 0.8559 - val_loss: 0.4064 - val_accuracy: 0.8462\n",
            "Epoch 48/50\n",
            "18/18 [==============================] - 0s 4ms/step - loss: 0.3589 - accuracy: 0.8418 - val_loss: 0.4101 - val_accuracy: 0.8392\n",
            "Epoch 49/50\n",
            "18/18 [==============================] - 0s 5ms/step - loss: 0.3729 - accuracy: 0.8524 - val_loss: 0.4149 - val_accuracy: 0.8322\n",
            "Epoch 50/50\n",
            "18/18 [==============================] - 0s 5ms/step - loss: 0.3739 - accuracy: 0.8401 - val_loss: 0.4074 - val_accuracy: 0.8462\n",
            "6/6 [==============================] - 0s 2ms/step\n"
          ]
        }
      ]
    },
    {
      "cell_type": "code",
      "source": [
        "# Evaluate the model\n",
        "accuracy = accuracy_score(y_test, y_pred)\n",
        "precision = precision_score(y_test, y_pred)\n",
        "recall = recall_score(y_test, y_pred)\n",
        "f1 = f1_score(y_test, y_pred)\n",
        "\n",
        "print(f\"\\n Accuracy: {accuracy:.2f}\")\n",
        "print(f\"Precision: {precision:.2f}\")\n",
        "print(f\"Recall: {recall:.2f}\")\n",
        "print(f\"F1-score: {f1:.2f}\")"
      ],
      "metadata": {
        "colab": {
          "base_uri": "https://localhost:8080/"
        },
        "id": "sVrSnF_2oTVE",
        "outputId": "5b0d7f11-7ac4-4286-d437-267561eb8a90"
      },
      "execution_count": 7,
      "outputs": [
        {
          "output_type": "stream",
          "name": "stdout",
          "text": [
            "\n",
            " Accuracy: 0.83\n",
            "Precision: 0.84\n",
            "Recall: 0.73\n",
            "F1-score: 0.78\n"
          ]
        }
      ]
    },
    {
      "cell_type": "code",
      "source": [],
      "metadata": {
        "id": "hrTT8x0soThN"
      },
      "execution_count": null,
      "outputs": []
    },
    {
      "cell_type": "code",
      "source": [],
      "metadata": {
        "id": "GY474EPTmcQP"
      },
      "execution_count": null,
      "outputs": []
    },
    {
      "cell_type": "code",
      "source": [],
      "metadata": {
        "id": "Nafzr4DgmcRf"
      },
      "execution_count": null,
      "outputs": []
    }
  ]
}