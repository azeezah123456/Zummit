{
  "nbformat": 4,
  "nbformat_minor": 0,
  "metadata": {
    "colab": {
      "provenance": []
    },
    "kernelspec": {
      "name": "python3",
      "display_name": "Python 3"
    },
    "language_info": {
      "name": "python"
    }
  },
  "cells": [
    {
      "cell_type": "code",
      "execution_count": 1,
      "metadata": {
        "id": "DFiB9zSh8IZ6"
      },
      "outputs": [],
      "source": [
        "import pandas as pd\n",
        "from sklearn.model_selection import train_test_split\n",
        "from sklearn.preprocessing import StandardScaler\n",
        "from sklearn.ensemble import RandomForestClassifier, GradientBoostingClassifier\n",
        "from sklearn.svm import SVC\n",
        "from sklearn.neighbors import KNeighborsClassifier\n",
        "from sklearn.linear_model import LogisticRegression\n",
        "from sklearn.metrics import accuracy_score\n",
        "\n",
        "\n"
      ]
    },
    {
      "cell_type": "code",
      "source": [
        "# Load the dataset\n",
        "url = \"https://archive.ics.uci.edu/ml/machine-learning-databases/heart-disease/processed.cleveland.data\"\n",
        "column_names = [\"age\", \"sex\", \"cp\", \"trestbps\", \"chol\", \"fbs\", \"restecg\", \"thalach\", \"exang\", \"oldpeak\", \"slope\", \"ca\", \"thal\", \"target\"]\n",
        "heart_data = pd.read_csv(url, names=column_names, na_values=\"?\")\n",
        "\n"
      ],
      "metadata": {
        "id": "6olBY0vL9YAM"
      },
      "execution_count": 2,
      "outputs": []
    },
    {
      "cell_type": "code",
      "source": [
        "# Drop rows with missing values\n",
        "heart_data = heart_data.dropna()\n",
        "\n",
        "# Separate features (X) and target variable (y)\n",
        "X = heart_data.drop(\"target\", axis=1)\n",
        "y = heart_data[\"target\"]\n",
        "\n",
        "# Split the data into training and testing sets\n",
        "X_train, X_test, y_train, y_test = train_test_split(X, y, test_size=0.2, random_state=42)\n",
        "\n"
      ],
      "metadata": {
        "id": "ApEPIkAx9YEB"
      },
      "execution_count": 3,
      "outputs": []
    },
    {
      "cell_type": "code",
      "source": [
        "# Standardize features\n",
        "scaler = StandardScaler()\n",
        "X_train_scaled = scaler.fit_transform(X_train)\n",
        "X_test_scaled = scaler.transform(X_test)\n",
        "\n",
        "# Initialize classifiers\n",
        "classifiers = {\n",
        "    \"Random Forest\": RandomForestClassifier(random_state=42),\n",
        "    \"Gradient Boosting\": GradientBoostingClassifier(random_state=42),\n",
        "    \"Support Vector Machine\": SVC(random_state=42),\n",
        "    \"K-Nearest Neighbors\": KNeighborsClassifier(),\n",
        "    \"Logistic Regression\": LogisticRegression(random_state=42)\n",
        "}\n",
        "\n"
      ],
      "metadata": {
        "id": "b0pbzNvD9YKa"
      },
      "execution_count": 5,
      "outputs": []
    },
    {
      "cell_type": "code",
      "source": [
        "# Train and evaluate each classifier\n",
        "results = {}\n",
        "for name, clf in classifiers.items():\n",
        "    clf.fit(X_train_scaled, y_train)\n",
        "    y_pred = clf.predict(X_test_scaled)\n",
        "    accuracy = accuracy_score(y_test, y_pred)\n",
        "    results[name] = accuracy\n",
        "    print(f\"{name}: Accuracy = {accuracy:.4f}\")\n",
        "\n"
      ],
      "metadata": {
        "colab": {
          "base_uri": "https://localhost:8080/"
        },
        "id": "HwDoA3bb9YQQ",
        "outputId": "5ad408aa-31b2-44a4-f837-79fa83656ab3"
      },
      "execution_count": 6,
      "outputs": [
        {
          "output_type": "stream",
          "name": "stdout",
          "text": [
            "Random Forest: Accuracy = 0.6000\n",
            "Gradient Boosting: Accuracy = 0.5333\n",
            "Support Vector Machine: Accuracy = 0.6500\n",
            "K-Nearest Neighbors: Accuracy = 0.6000\n",
            "Logistic Regression: Accuracy = 0.6167\n"
          ]
        }
      ]
    },
    {
      "cell_type": "code",
      "source": [
        "# Compare accuracy results\n",
        "results_df = pd.DataFrame(list(results.items()), columns=[\"Algorithm\", \"Accuracy\"])\n",
        "print(\"\\nComparison of Algorithm Accuracies:\")\n",
        "print(results_df.sort_values(by=\"Accuracy\", ascending=False))"
      ],
      "metadata": {
        "colab": {
          "base_uri": "https://localhost:8080/"
        },
        "id": "X_SRSD-h9YSB",
        "outputId": "3b8ec7c6-6e19-4273-b59a-f240b939fbba"
      },
      "execution_count": 7,
      "outputs": [
        {
          "output_type": "stream",
          "name": "stdout",
          "text": [
            "\n",
            "Comparison of Algorithm Accuracies:\n",
            "                Algorithm  Accuracy\n",
            "2  Support Vector Machine  0.650000\n",
            "4     Logistic Regression  0.616667\n",
            "0           Random Forest  0.600000\n",
            "3     K-Nearest Neighbors  0.600000\n",
            "1       Gradient Boosting  0.533333\n"
          ]
        }
      ]
    },
    {
      "cell_type": "code",
      "source": [],
      "metadata": {
        "id": "3MHxRJId9YXg"
      },
      "execution_count": null,
      "outputs": []
    }
  ]
}