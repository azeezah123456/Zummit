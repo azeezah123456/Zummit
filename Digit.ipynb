{
  "cells": [
    {
      "cell_type": "markdown",
      "metadata": {
        "id": "3sO-QYiBTXf4"
      },
      "source": [
        "## Import required libraries"
      ]
    },
    {
      "cell_type": "code",
      "execution_count": null,
      "metadata": {
        "id": "NSaAKjE5S9wn"
      },
      "outputs": [],
      "source": [
        "import tensorflow as tf\n",
        "from matplotlib import pyplot as plt\n",
        "import numpy as np"
      ]
    },
    {
      "cell_type": "markdown",
      "metadata": {
        "id": "nlb3U_xATlB1"
      },
      "source": [
        "## Load data"
      ]
    },
    {
      "cell_type": "code",
      "execution_count": null,
      "metadata": {
        "colab": {
          "base_uri": "https://localhost:8080/"
        },
        "id": "am0gWZGyTjgL",
        "outputId": "aa1fbe9a-d9a2-4dc1-8066-04b2b1ed7d3b"
      },
      "outputs": [
        {
          "name": "stdout",
          "output_type": "stream",
          "text": [
            "Downloading data from https://storage.googleapis.com/tensorflow/tf-keras-datasets/mnist.npz\n",
            "11490434/11490434 [==============================] - 0s 0us/step\n"
          ]
        }
      ],
      "source": [
        "(x_train, y_train), (x_test, y_test) = tf.keras.datasets.mnist.load_data(\n",
        "      path='mnist.npz'\n",
        "    )"
      ]
    },
    {
      "cell_type": "code",
      "execution_count": null,
      "metadata": {
        "id": "l38FHW0jl37z"
      },
      "outputs": [],
      "source": [
        "x_train = x_train.reshape((x_train.shape[0], 28, 28, 1))\n",
        "x_test = x_test.reshape((x_test.shape[0], 28, 28, 1))"
      ]
    },
    {
      "cell_type": "markdown",
      "metadata": {
        "id": "DvXfMlr3U6RW"
      },
      "source": [
        "### Print shape of dataset"
      ]
    },
    {
      "cell_type": "code",
      "execution_count": null,
      "metadata": {
        "colab": {
          "base_uri": "https://localhost:8080/"
        },
        "id": "MUbhKfotT6py",
        "outputId": "5c420d86-f750-4be4-9c0a-5ddfc71eeebf"
      },
      "outputs": [
        {
          "name": "stdout",
          "output_type": "stream",
          "text": [
            "x_train: (60000, 28, 28) y_train: (60000,)\n",
            "x_test: (10000, 28, 28) y_test: (10000,)\n"
          ]
        }
      ],
      "source": [
        "print('x_train:', x_train.shape, 'y_train:', y_train.shape)\n",
        "print('x_test:', x_test.shape, 'y_test:', y_test.shape)"
      ]
    },
    {
      "cell_type": "code",
      "execution_count": null,
      "metadata": {
        "colab": {
          "base_uri": "https://localhost:8080/",
          "height": 812
        },
        "id": "sy_z7rPOUIF8",
        "outputId": "76f3f888-2b20-45d0-e7b8-b1858eea194c"
      },
      "outputs": [
        {
          "data": {
            "image/png": "[encoded data removed]",
            "text/plain": [
              "<Figure size 500x2000 with 8 Axes>"
            ]
          },
          "metadata": {},
          "output_type": "display_data"
        }
      ],
      "source": [
        "num_images = 8\n",
        "\n",
        "plt.figure(figsize=(5, 20))\n",
        "for i in range(num_images):\n",
        "  plt.subplot(num_images, 2, i+1)\n",
        "  plt.imshow(x_train[i])\n",
        "  plt.title(y_train[i])\n",
        "  plt.axis('off')\n"
      ]
    },
    {
      "cell_type": "markdown",
      "metadata": {
        "id": "pZsncF88Xkkc"
      },
      "source": [
        "# Build the model"
      ]
    },
    {
      "cell_type": "code",
      "execution_count": null,
      "metadata": {
        "id": "bZ_ZdKb4Z5rF"
      },
      "outputs": [],
      "source": [
        "num_classes = 10\n",
        "input_shape = (28,28,1)\n",
        "kernel_size = 5\n",
        "stride = (1,1)\n",
        "\n",
        "model = tf.keras.Sequential([\n",
        "      tf.keras.layers.Rescaling(1./255),\n",
        "\n",
        "      # 1\n",
        "      tf.keras.layers.Conv2D(\n",
        "        filters=6, kernel_size=5, strides=(1,1),\n",
        "        padding='valid', activation='relu', input_shape=input_shape\n",
        "      ),\n",
        "      tf.keras.layers.MaxPool2D(),\n",
        "\n",
        "      # 2\n",
        "      tf.keras.layers.Conv2D(\n",
        "        filters=6, kernel_size=5, strides=(1,1),\n",
        "        padding='valid', activation='relu', input_shape=input_shape\n",
        "      ),\n",
        "      tf.keras.layers.MaxPool2D(),\n",
        "\n",
        "      tf.keras.layers.Flatten(),\n",
        "\n",
        "      tf.keras.layers.Dense(120, activation='relu'),\n",
        "      tf.keras.layers.Dense(84, activation='relu'),\n",
        "\n",
        "      tf.keras.layers.Dense(num_classes)\n",
        "\n",
        "])"
      ]
    },
    {
      "cell_type": "code",
      "execution_count": null,
      "metadata": {
        "id": "XsDeARIyXWtz"
      },
      "outputs": [],
      "source": [
        "model.compile(\n",
        "  optimizer='adam',\n",
        "  loss=tf.keras.losses.SparseCategoricalCrossentropy(from_logits=True),\n",
        "  metrics=['accuracy'])"
      ]
    },
    {
      "cell_type": "code",
      "execution_count": null,
      "metadata": {
        "colab": {
          "base_uri": "https://localhost:8080/"
        },
        "id": "7IMKNHAsh6-D",
        "outputId": "432da603-dc80-4956-d974-ce11bd617918"
      },
      "outputs": [
        {
          "name": "stdout",
          "output_type": "stream",
          "text": [
            "1875/1875 [==============================] - 48s 25ms/step - loss: 0.2293 - accuracy: 0.9280\n"
          ]
        },
        {
          "data": {
            "text/plain": [
              "<keras.callbacks.History at 0x7fa7c2bc3730>"
            ]
          },
          "execution_count": 8,
          "metadata": {},
          "output_type": "execute_result"
        }
      ],
      "source": [
        "model.fit(x_train, y_train, epochs=1)"
      ]
    },
    {
      "cell_type": "code",
      "execution_count": null,
      "metadata": {
        "colab": {
          "base_uri": "https://localhost:8080/"
        },
        "id": "_3YGpy_Mno8N",
        "outputId": "7d8bec09-ba94-4732-9377-9f71649b23d9"
      },
      "outputs": [
        {
          "name": "stdout",
          "output_type": "stream",
          "text": [
            "313/313 [==============================] - 2s 7ms/step - loss: 0.0836 - accuracy: 0.9728\n"
          ]
        },
        {
          "data": {
            "text/plain": [
              "[0.0836094468832016, 0.9728000164031982]"
            ]
          },
          "execution_count": 9,
          "metadata": {},
          "output_type": "execute_result"
        }
      ],
      "source": [
        "model.evaluate(x_test, y_test)"
      ]
    },
    {
      "cell_type": "code",
      "execution_count": null,
      "metadata": {
        "colab": {
          "base_uri": "https://localhost:8080/",
          "height": 452
        },
        "id": "xfviPYaGot4_",
        "outputId": "983f3fb7-8146-42fa-fe78-d8cde79c3e75"
      },
      "outputs": [
        {
          "data": {
            "image/png": "[encoded data removed]",
            "text/plain": [
              "<Figure size 640x480 with 1 Axes>"
            ]
          },
          "metadata": {},
          "output_type": "display_data"
        }
      ],
      "source": [
        "prediction = model.predict(x_test[1:2], verbose=0)\n",
        "result = np.argmax(prediction)\n",
        "actual = y_test[1]\n",
        "\n",
        "plt.imshow(x_test[1:2].reshape(28,28))\n",
        "plt.title(f'prediction: {result} actual: {actual}')\n",
        "plt.show()"
      ]
    },
    {
      "cell_type": "code",
      "execution_count": null,
      "metadata": {
        "colab": {
          "background_save": true,
          "base_uri": "https://localhost:8080/"
        },
        "id": "-mU4b81L-UEG",
        "outputId": "ee5b0df6-997e-4fd4-dc50-b6274ba551b0"
      },
      "outputs": [
        {
          "name": "stdout",
          "output_type": "stream",
          "text": [
            "Epoch 1/5\n",
            "1875/1875 [==============================] - 52s 27ms/step - loss: 0.1656 - accuracy: 0.9504 - val_loss: 0.0690 - val_accuracy: 0.9779\n",
            "Epoch 2/5\n",
            "1875/1875 [==============================] - 39s 21ms/step - loss: 0.0585 - accuracy: 0.9821 - val_loss: 0.0535 - val_accuracy: 0.9810\n",
            "Epoch 3/5\n",
            "1875/1875 [==============================] - 40s 21ms/step - loss: 0.0400 - accuracy: 0.9876 - val_loss: 0.0490 - val_accuracy: 0.9841\n",
            "Epoch 4/5\n",
            "1875/1875 [==============================] - 38s 20ms/step - loss: 0.0284 - accuracy: 0.9907 - val_loss: 0.0534 - val_accuracy: 0.9843\n",
            "Epoch 5/5\n",
            "1875/1875 [==============================] - 37s 20ms/step - loss: 0.0211 - accuracy: 0.9935 - val_loss: 0.0583 - val_accuracy: 0.9814\n"
          ]
        }
      ],
      "source": [
        "import cv2\n",
        "from google.colab.patches import cv2_imshow\n",
        "import tensorflow as tf\n",
        "import numpy as np\n",
        "\n",
        "# Load the MNIST dataset\n",
        "(x_train, y_train), (x_test, y_test) = tf.keras.datasets.mnist.load_data()\n",
        "\n",
        "# Preprocess the dataset\n",
        "x_train = x_train.reshape((x_train.shape[0], 28, 28, 1))\n",
        "x_test = x_test.reshape((x_test.shape[0], 28, 28, 1))\n",
        "x_train = x_train.astype('float32') / 255.0\n",
        "x_test = x_test.astype('float32') / 255.0\n",
        "\n",
        "# Define the model architecture\n",
        "model = tf.keras.Sequential([\n",
        "    tf.keras.layers.Conv2D(32, (3, 3), activation='relu', input_shape=(28, 28, 1)),\n",
        "    tf.keras.layers.MaxPooling2D((2, 2)),\n",
        "    tf.keras.layers.Flatten(),\n",
        "    tf.keras.layers.Dense(64, activation='relu'),\n",
        "    tf.keras.layers.Dense(10)\n",
        "])\n",
        "\n",
        "# Compile the model\n",
        "model.compile(optimizer='adam',\n",
        "              loss=tf.keras.losses.SparseCategoricalCrossentropy(from_logits=True),\n",
        "              metrics=['accuracy'])\n",
        "\n",
        "# Train the model\n",
        "model.fit(x_train, y_train, epochs=5, validation_data=(x_test, y_test))\n",
        "\n",
        "# Capture an image of a digit using OpenCV\n",
        "cap = cv2.VideoCapture(0)\n",
        "while True:\n",
        "    ret, frame = cap.read()\n",
        "    if ret:\n",
        "        cv2_imshow(frame)\n",
        "\n",
        "        # Wait for the 's' key to be pressed to capture the image\n",
        "        if cv2.waitKey(1) & 0xFF == ord('s'):\n",
        "            # Preprocess the captured image\n",
        "            gray = cv2.cvtColor(frame, cv2.COLOR_BGR2GRAY)\n",
        "            resized = cv2.resize(gray, (28, 28), interpolation=cv2.INTER_AREA)\n",
        "            normalized = resized / 255.0\n",
        "            reshaped = np.reshape(normalized, (1, 28, 28, 1))\n",
        "\n",
        "            # Perform prediction using the model\n",
        "            prediction = model.predict(reshaped)\n",
        "            result = np.argmax(prediction)\n",
        "\n",
        "            # Display the captured image and the predicted label\n",
        "            cv2_imshow(resized)\n",
        "            print(f'Prediction: {result}')\n",
        "\n",
        "            # Break the loop\n",
        "            break\n",
        "\n",
        "# Release the capture and close the window\n",
        "cap.release()\n",
        "cv2.destroyAllWindows()\n"
      ]
    }
  ],
  "metadata": {
    "colab": {
      "provenance": []
    },
    "kernelspec": {
      "display_name": "Python 3",
      "name": "python3"
    },
    "language_info": {
      "name": "python"
    }
  },
  "nbformat": 4,
  "nbformat_minor": 0
}